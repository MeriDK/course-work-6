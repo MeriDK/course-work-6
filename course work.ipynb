{
 "cells": [
  {
   "cell_type": "code",
   "execution_count": 1,
   "metadata": {},
   "outputs": [],
   "source": [
    "import pandas as pd\n",
    "import numpy as np\n",
    "import pptk"
   ]
  },
  {
   "cell_type": "code",
   "execution_count": 2,
   "metadata": {},
   "outputs": [
    {
     "data": {
      "text/plain": [
       "[name: \"/device:CPU:0\"\n",
       " device_type: \"CPU\"\n",
       " memory_limit: 268435456\n",
       " locality {\n",
       " }\n",
       " incarnation: 3678614890653334904,\n",
       " name: \"/device:GPU:0\"\n",
       " device_type: \"GPU\"\n",
       " memory_limit: 2247832372\n",
       " locality {\n",
       "   bus_id: 1\n",
       "   links {\n",
       "   }\n",
       " }\n",
       " incarnation: 17255442678809198756\n",
       " physical_device_desc: \"device: 0, name: GeForce GTX 1650 Ti, pci bus id: 0000:01:00.0, compute capability: 7.5\"]"
      ]
     },
     "execution_count": 2,
     "metadata": {},
     "output_type": "execute_result"
    }
   ],
   "source": [
    "from tensorflow.python.client import device_lib\n",
    "\n",
    "device_lib.list_local_devices()"
   ]
  },
  {
   "cell_type": "code",
   "execution_count": 6,
   "metadata": {},
   "outputs": [
    {
     "data": {
      "text/html": [
       "<div>\n",
       "<style scoped>\n",
       "    .dataframe tbody tr th:only-of-type {\n",
       "        vertical-align: middle;\n",
       "    }\n",
       "\n",
       "    .dataframe tbody tr th {\n",
       "        vertical-align: top;\n",
       "    }\n",
       "\n",
       "    .dataframe thead th {\n",
       "        text-align: right;\n",
       "    }\n",
       "</style>\n",
       "<table border=\"1\" class=\"dataframe\">\n",
       "  <thead>\n",
       "    <tr style=\"text-align: right;\">\n",
       "      <th></th>\n",
       "      <th>0</th>\n",
       "      <th>1</th>\n",
       "      <th>2</th>\n",
       "      <th>3</th>\n",
       "      <th>4</th>\n",
       "      <th>5</th>\n",
       "      <th>6</th>\n",
       "      <th>7</th>\n",
       "      <th>8</th>\n",
       "      <th>9</th>\n",
       "    </tr>\n",
       "  </thead>\n",
       "  <tbody>\n",
       "    <tr>\n",
       "      <th>0</th>\n",
       "      <td>141.516174</td>\n",
       "      <td>4182.317383</td>\n",
       "      <td>610.207031</td>\n",
       "      <td>110</td>\n",
       "      <td>100</td>\n",
       "      <td>67</td>\n",
       "      <td>9</td>\n",
       "      <td>-0.589756</td>\n",
       "      <td>-0.339557</td>\n",
       "      <td>-0.732727</td>\n",
       "    </tr>\n",
       "    <tr>\n",
       "      <th>1</th>\n",
       "      <td>141.532181</td>\n",
       "      <td>4182.319336</td>\n",
       "      <td>610.201843</td>\n",
       "      <td>114</td>\n",
       "      <td>103</td>\n",
       "      <td>75</td>\n",
       "      <td>9</td>\n",
       "      <td>-0.078436</td>\n",
       "      <td>-0.346980</td>\n",
       "      <td>-0.934587</td>\n",
       "    </tr>\n",
       "    <tr>\n",
       "      <th>2</th>\n",
       "      <td>141.507172</td>\n",
       "      <td>4182.312012</td>\n",
       "      <td>610.238403</td>\n",
       "      <td>100</td>\n",
       "      <td>86</td>\n",
       "      <td>48</td>\n",
       "      <td>9</td>\n",
       "      <td>-0.997738</td>\n",
       "      <td>-0.033009</td>\n",
       "      <td>-0.058565</td>\n",
       "    </tr>\n",
       "    <tr>\n",
       "      <th>3</th>\n",
       "      <td>141.507172</td>\n",
       "      <td>4182.312012</td>\n",
       "      <td>610.225830</td>\n",
       "      <td>105</td>\n",
       "      <td>87</td>\n",
       "      <td>50</td>\n",
       "      <td>9</td>\n",
       "      <td>-0.911376</td>\n",
       "      <td>-0.193757</td>\n",
       "      <td>-0.363115</td>\n",
       "    </tr>\n",
       "    <tr>\n",
       "      <th>4</th>\n",
       "      <td>141.509171</td>\n",
       "      <td>4182.312012</td>\n",
       "      <td>610.213806</td>\n",
       "      <td>110</td>\n",
       "      <td>94</td>\n",
       "      <td>61</td>\n",
       "      <td>9</td>\n",
       "      <td>-0.507945</td>\n",
       "      <td>-0.305400</td>\n",
       "      <td>-0.805433</td>\n",
       "    </tr>\n",
       "  </tbody>\n",
       "</table>\n",
       "</div>"
      ],
      "text/plain": [
       "            0            1           2    3    4   5  6         7         8  \\\n",
       "0  141.516174  4182.317383  610.207031  110  100  67  9 -0.589756 -0.339557   \n",
       "1  141.532181  4182.319336  610.201843  114  103  75  9 -0.078436 -0.346980   \n",
       "2  141.507172  4182.312012  610.238403  100   86  48  9 -0.997738 -0.033009   \n",
       "3  141.507172  4182.312012  610.225830  105   87  50  9 -0.911376 -0.193757   \n",
       "4  141.509171  4182.312012  610.213806  110   94  61  9 -0.507945 -0.305400   \n",
       "\n",
       "          9  \n",
       "0 -0.732727  \n",
       "1 -0.934587  \n",
       "2 -0.058565  \n",
       "3 -0.363115  \n",
       "4 -0.805433  "
      ]
     },
     "execution_count": 6,
     "metadata": {},
     "output_type": "execute_result"
    }
   ],
   "source": [
    "df = pd.read_csv('Test/B_SMV_chapel_27to35.txt', sep=' ', header=None)\n",
    "df.head()"
   ]
  },
  {
   "cell_type": "code",
   "execution_count": 7,
   "metadata": {},
   "outputs": [],
   "source": [
    "points = np.array(df[[0, 1, 2]])\n",
    "colors = np.array(df[[3, 4, 5]])\n",
    "classes = np.array(df[6])"
   ]
  },
  {
   "cell_type": "code",
   "execution_count": 13,
   "metadata": {},
   "outputs": [],
   "source": [
    "np.savetxt('Training/points/1.pts', points, fmt='%1.8f')"
   ]
  },
  {
   "cell_type": "code",
   "execution_count": 14,
   "metadata": {},
   "outputs": [],
   "source": [
    "np.savetxt('Training/points_label/1.seg', classes, fmt='%1.0f')"
   ]
  },
  {
   "cell_type": "code",
   "execution_count": 15,
   "metadata": {},
   "outputs": [],
   "source": [
    "names = ['2_TR_church.txt', '3_VAL_room.txt', '4_CA_church.txt', '5_SMV_chapel_1.txt', '6_SMV_chapel_2to4.txt', '7_SMV_chapel_24.txt',\n",
    "        '8_SMV_chapel_28.txt', '9_SMV_chapel_10.txt', '10_SStefano_portico_1.txt', '11_SStefano_portico_2.txt', '12_KAS_pavillion_1.txt',\n",
    "        '13_KAS_pavillion_2.txt', '14_TRE_square.txt', '15_OTT_church.txt']\n",
    "\n",
    "for i in range(len(names)):\n",
    "    df = pd.read_csv('Training/' + names[i], sep=' ', header=None)\n",
    "    points = np.array(df[[0, 1, 2]])\n",
    "    classes = np.array(df[6])\n",
    "    np.savetxt('Training/points/' + str(i + 2) + '.pts', points, fmt='%1.8f')\n",
    "    np.savetxt('Training/points_label/' + str(i + 2) +'.seg', classes, fmt='%1.0f')"
   ]
  },
  {
   "cell_type": "code",
   "execution_count": 16,
   "metadata": {},
   "outputs": [],
   "source": [
    "names = ['A_SMG_portico.txt', 'B_SMV_chapel_27to35.txt']\n",
    "\n",
    "for i in range(len(names)):\n",
    "    df = pd.read_csv('Test/' + names[i], sep=' ', header=None)\n",
    "    points = np.array(df[[0, 1, 2]])\n",
    "    classes = np.array(df[6])\n",
    "    np.savetxt('Training/points/' + str(i + 16) + '.pts', points, fmt='%1.8f')\n",
    "    np.savetxt('Training/points_label/' + str(i + 16) +'.seg', classes, fmt='%1.0f')"
   ]
  },
  {
   "cell_type": "code",
   "execution_count": 20,
   "metadata": {},
   "outputs": [],
   "source": [
    "v = pptk.viewer(points)\n",
    "# v.attributes(classes)"
   ]
  },
  {
   "cell_type": "code",
   "execution_count": 8,
   "metadata": {},
   "outputs": [],
   "source": [
    "v = pptk.viewer(points)\n",
    "v.attributes(classes)"
   ]
  },
  {
   "cell_type": "code",
   "execution_count": 9,
   "metadata": {},
   "outputs": [],
   "source": [
    "v = pptk.viewer(points)\n",
    "v.attributes(colors/255)"
   ]
  },
  {
   "cell_type": "code",
   "execution_count": 6,
   "metadata": {},
   "outputs": [
    {
     "data": {
      "text/plain": [
       "array([[ 204.05422974, 4269.84375   ,  598.61895752],\n",
       "       [ 203.9602356 , 4270.00390625,  598.74694824],\n",
       "       [ 203.8682251 , 4269.67480469,  598.41497803],\n",
       "       ...,\n",
       "       [ 206.92002869, 4265.95507813,  601.64257813],\n",
       "       [ 207.0340271 , 4266.05810547,  601.64953613],\n",
       "       [ 206.64002991, 4266.14697266,  601.49053955]])"
      ]
     },
     "execution_count": 6,
     "metadata": {},
     "output_type": "execute_result"
    }
   ],
   "source": [
    "points"
   ]
  },
  {
   "cell_type": "code",
   "execution_count": null,
   "metadata": {},
   "outputs": [],
   "source": []
  }
 ],
 "metadata": {
  "kernelspec": {
   "display_name": "Python 3",
   "language": "python",
   "name": "python3"
  },
  "language_info": {
   "codemirror_mode": {
    "name": "ipython",
    "version": 3
   },
   "file_extension": ".py",
   "mimetype": "text/x-python",
   "name": "python",
   "nbconvert_exporter": "python",
   "pygments_lexer": "ipython3",
   "version": "3.7.10"
  }
 },
 "nbformat": 4,
 "nbformat_minor": 4
}
