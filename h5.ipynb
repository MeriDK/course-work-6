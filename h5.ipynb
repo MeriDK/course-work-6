{
 "cells": [
  {
   "cell_type": "code",
   "execution_count": 23,
   "id": "4ffeb420-209a-49aa-adff-4adeeea0e61f",
   "metadata": {},
   "outputs": [],
   "source": [
    "import h5py\n",
    "import pptk\n",
    "import pandas as pd\n",
    "import numpy as np"
   ]
  },
  {
   "cell_type": "code",
   "execution_count": 3,
   "id": "fc872b3a-36a4-424d-8826-1afc50b26f42",
   "metadata": {},
   "outputs": [],
   "source": [
    "f = h5py.File('ply_data_train1.h5', 'r')"
   ]
  },
  {
   "cell_type": "code",
   "execution_count": 4,
   "id": "7d442881-0c84-42c7-9b8f-2c750c62f263",
   "metadata": {},
   "outputs": [
    {
     "data": {
      "text/plain": [
       "['data', 'faceId', 'label', 'normal']"
      ]
     },
     "execution_count": 4,
     "metadata": {},
     "output_type": "execute_result"
    }
   ],
   "source": [
    "list(f.keys())"
   ]
  },
  {
   "cell_type": "code",
   "execution_count": 6,
   "id": "63f3ef5b-1cd9-48cd-8547-53133063c995",
   "metadata": {},
   "outputs": [
    {
     "data": {
      "text/plain": [
       "<HDF5 dataset \"data\": shape (2048, 2048, 3), type \"<f4\">"
      ]
     },
     "execution_count": 6,
     "metadata": {},
     "output_type": "execute_result"
    }
   ],
   "source": [
    "data = f['data']\n",
    "data"
   ]
  },
  {
   "cell_type": "code",
   "execution_count": 8,
   "id": "df5fc11b-203d-4703-b700-ca066d04b44e",
   "metadata": {},
   "outputs": [
    {
     "data": {
      "text/plain": [
       "<HDF5 dataset \"faceId\": shape (2048, 2048), type \"<i4\">"
      ]
     },
     "execution_count": 8,
     "metadata": {},
     "output_type": "execute_result"
    }
   ],
   "source": [
    "face = f['faceId']\n",
    "face"
   ]
  },
  {
   "cell_type": "code",
   "execution_count": 9,
   "id": "072cc10f-cc08-478a-a6a3-81d4bf5cacd9",
   "metadata": {},
   "outputs": [
    {
     "data": {
      "text/plain": [
       "<HDF5 dataset \"label\": shape (2048, 1), type \"|u1\">"
      ]
     },
     "execution_count": 9,
     "metadata": {},
     "output_type": "execute_result"
    }
   ],
   "source": [
    "label = f['label']\n",
    "label"
   ]
  },
  {
   "cell_type": "code",
   "execution_count": 10,
   "id": "9003f6b3-9222-4c2e-a5eb-11481fc9db29",
   "metadata": {},
   "outputs": [
    {
     "data": {
      "text/plain": [
       "<HDF5 dataset \"normal\": shape (2048, 2048, 3), type \"<f4\">"
      ]
     },
     "execution_count": 10,
     "metadata": {},
     "output_type": "execute_result"
    }
   ],
   "source": [
    "normal = f['normal']\n",
    "normal"
   ]
  },
  {
   "cell_type": "code",
   "execution_count": 11,
   "id": "7e80e10f-2230-4a9b-824c-d5c3b8c98528",
   "metadata": {},
   "outputs": [
    {
     "data": {
      "text/plain": [
       "array([[-0.19995758, -0.00575545,  0.6151126 ],\n",
       "       [-0.28962055, -0.48679873, -0.7802458 ],\n",
       "       [-0.32760182, -0.4277147 , -0.7982146 ],\n",
       "       ...,\n",
       "       [ 0.1053436 ,  0.22563282, -0.72715074],\n",
       "       [ 0.21908867, -0.02505763, -0.6966349 ],\n",
       "       [-0.00767022, -0.15380809, -0.84131134]], dtype=float32)"
      ]
     },
     "execution_count": 11,
     "metadata": {},
     "output_type": "execute_result"
    }
   ],
   "source": [
    "data[0]"
   ]
  },
  {
   "cell_type": "code",
   "execution_count": 14,
   "id": "e3552165-9116-4a95-bb14-d168cc42d56a",
   "metadata": {},
   "outputs": [],
   "source": [
    "v = pptk.viewer(data[1])"
   ]
  },
  {
   "cell_type": "code",
   "execution_count": 18,
   "id": "3265034b-ae5a-4060-bf01-582d4e749990",
   "metadata": {},
   "outputs": [
    {
     "data": {
      "text/plain": [
       "array([294, 388, 382, ...,  29, 109,  58])"
      ]
     },
     "execution_count": 18,
     "metadata": {},
     "output_type": "execute_result"
    }
   ],
   "source": [
    "face[0]"
   ]
  },
  {
   "cell_type": "code",
   "execution_count": 16,
   "id": "d4676c42-7e1d-40da-a73b-c50093e1214f",
   "metadata": {},
   "outputs": [
    {
     "data": {
      "text/plain": [
       "array([12], dtype=uint8)"
      ]
     },
     "execution_count": 16,
     "metadata": {},
     "output_type": "execute_result"
    }
   ],
   "source": [
    "label[0]"
   ]
  },
  {
   "cell_type": "code",
   "execution_count": 21,
   "id": "dcdee887-bc4d-4e9a-94be-f00568393122",
   "metadata": {},
   "outputs": [
    {
     "data": {
      "text/html": [
       "<div>\n",
       "<style scoped>\n",
       "    .dataframe tbody tr th:only-of-type {\n",
       "        vertical-align: middle;\n",
       "    }\n",
       "\n",
       "    .dataframe tbody tr th {\n",
       "        vertical-align: top;\n",
       "    }\n",
       "\n",
       "    .dataframe thead th {\n",
       "        text-align: right;\n",
       "    }\n",
       "</style>\n",
       "<table border=\"1\" class=\"dataframe\">\n",
       "  <thead>\n",
       "    <tr style=\"text-align: right;\">\n",
       "      <th></th>\n",
       "      <th>0</th>\n",
       "      <th>1</th>\n",
       "      <th>2</th>\n",
       "      <th>3</th>\n",
       "      <th>4</th>\n",
       "      <th>5</th>\n",
       "      <th>6</th>\n",
       "      <th>7</th>\n",
       "      <th>8</th>\n",
       "      <th>9</th>\n",
       "    </tr>\n",
       "  </thead>\n",
       "  <tbody>\n",
       "    <tr>\n",
       "      <th>0</th>\n",
       "      <td>204.054230</td>\n",
       "      <td>4269.843750</td>\n",
       "      <td>598.618958</td>\n",
       "      <td>255</td>\n",
       "      <td>255</td>\n",
       "      <td>255</td>\n",
       "      <td>9</td>\n",
       "      <td>0.870893</td>\n",
       "      <td>-0.300466</td>\n",
       "      <td>0.388928</td>\n",
       "    </tr>\n",
       "    <tr>\n",
       "      <th>1</th>\n",
       "      <td>203.960236</td>\n",
       "      <td>4270.003906</td>\n",
       "      <td>598.746948</td>\n",
       "      <td>253</td>\n",
       "      <td>254</td>\n",
       "      <td>254</td>\n",
       "      <td>9</td>\n",
       "      <td>0.729889</td>\n",
       "      <td>-0.491558</td>\n",
       "      <td>0.475007</td>\n",
       "    </tr>\n",
       "    <tr>\n",
       "      <th>2</th>\n",
       "      <td>203.868225</td>\n",
       "      <td>4269.674805</td>\n",
       "      <td>598.414978</td>\n",
       "      <td>103</td>\n",
       "      <td>109</td>\n",
       "      <td>152</td>\n",
       "      <td>9</td>\n",
       "      <td>-0.338886</td>\n",
       "      <td>-0.809825</td>\n",
       "      <td>0.478895</td>\n",
       "    </tr>\n",
       "    <tr>\n",
       "      <th>3</th>\n",
       "      <td>204.695236</td>\n",
       "      <td>4270.380859</td>\n",
       "      <td>598.420959</td>\n",
       "      <td>120</td>\n",
       "      <td>107</td>\n",
       "      <td>133</td>\n",
       "      <td>9</td>\n",
       "      <td>0.356974</td>\n",
       "      <td>0.738397</td>\n",
       "      <td>-0.572136</td>\n",
       "    </tr>\n",
       "    <tr>\n",
       "      <th>4</th>\n",
       "      <td>203.965225</td>\n",
       "      <td>4269.679688</td>\n",
       "      <td>598.505920</td>\n",
       "      <td>152</td>\n",
       "      <td>157</td>\n",
       "      <td>177</td>\n",
       "      <td>9</td>\n",
       "      <td>0.778842</td>\n",
       "      <td>-0.616890</td>\n",
       "      <td>-0.113366</td>\n",
       "    </tr>\n",
       "  </tbody>\n",
       "</table>\n",
       "</div>"
      ],
      "text/plain": [
       "            0            1           2    3    4    5  6         7         8  \\\n",
       "0  204.054230  4269.843750  598.618958  255  255  255  9  0.870893 -0.300466   \n",
       "1  203.960236  4270.003906  598.746948  253  254  254  9  0.729889 -0.491558   \n",
       "2  203.868225  4269.674805  598.414978  103  109  152  9 -0.338886 -0.809825   \n",
       "3  204.695236  4270.380859  598.420959  120  107  133  9  0.356974  0.738397   \n",
       "4  203.965225  4269.679688  598.505920  152  157  177  9  0.778842 -0.616890   \n",
       "\n",
       "          9  \n",
       "0  0.388928  \n",
       "1  0.475007  \n",
       "2  0.478895  \n",
       "3 -0.572136  \n",
       "4 -0.113366  "
      ]
     },
     "execution_count": 21,
     "metadata": {},
     "output_type": "execute_result"
    }
   ],
   "source": [
    "df = pd.read_csv('Training/5_SMV_chapel_1.txt', sep=' ', header=None)\n",
    "df.head()"
   ]
  },
  {
   "cell_type": "code",
   "execution_count": 26,
   "id": "44699088-33dc-4d41-9e97-a496a4fe64d0",
   "metadata": {},
   "outputs": [],
   "source": [
    "points = np.array(df[[0, 1, 2]])\n",
    "colors = np.array(df[[3, 4, 5]])\n",
    "classes = np.array(df[6])\n",
    "normals = np.array(df[[7, 8, 9]])"
   ]
  },
  {
   "cell_type": "code",
   "execution_count": 27,
   "id": "a951637d-b181-4909-bc60-d5173ae8c798",
   "metadata": {},
   "outputs": [],
   "source": [
    "train1 = h5py.File('h5/train1.h5', 'w')"
   ]
  },
  {
   "cell_type": "code",
   "execution_count": 28,
   "id": "be118ecd-b85b-4630-afb3-18f25d36e3e0",
   "metadata": {},
   "outputs": [
    {
     "data": {
      "text/plain": [
       "<HDF5 dataset \"data\": shape (3783412, 3), type \"<f8\">"
      ]
     },
     "execution_count": 28,
     "metadata": {},
     "output_type": "execute_result"
    }
   ],
   "source": [
    "train1.create_dataset('data', data=points)"
   ]
  },
  {
   "cell_type": "code",
   "execution_count": null,
   "id": "c6669303-2bd9-48da-8dba-e7a60804618f",
   "metadata": {},
   "outputs": [],
   "source": []
  }
 ],
 "metadata": {
  "kernelspec": {
   "display_name": "Python 3",
   "language": "python",
   "name": "python3"
  },
  "language_info": {
   "codemirror_mode": {
    "name": "ipython",
    "version": 3
   },
   "file_extension": ".py",
   "mimetype": "text/x-python",
   "name": "python",
   "nbconvert_exporter": "python",
   "pygments_lexer": "ipython3",
   "version": "3.7.10"
  }
 },
 "nbformat": 4,
 "nbformat_minor": 5
}
